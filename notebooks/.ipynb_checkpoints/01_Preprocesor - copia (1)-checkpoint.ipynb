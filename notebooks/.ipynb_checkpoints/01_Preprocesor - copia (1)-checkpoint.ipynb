{
 "cells": [
  {
   "cell_type": "code",
   "execution_count": 1,
   "metadata": {},
   "outputs": [],
   "source": [
    "# Load libraries\n",
    "import pandas as pd\n",
    "import numpy as np\n",
    "from sklearn.pipeline import Pipeline\n",
    "from sklearn.impute import SimpleImputer\n",
    "from sklearn.preprocessing import StandardScaler, OneHotEncoder\n",
    "from sklearn.compose import ColumnTransformer\n",
    "import pickle\n",
    "from sklearn.model_selection import train_test_split"
   ]
  },
  {
   "cell_type": "code",
   "execution_count": 2,
   "metadata": {},
   "outputs": [
    {
     "name": "stderr",
     "output_type": "stream",
     "text": [
      "C:\\Users\\Usuario\\AppData\\Local\\Temp\\ipykernel_15344\\3402968170.py:1: DtypeWarning: Columns (5) have mixed types. Specify dtype option on import or set low_memory=False.\n",
      "  reviews_df = pd.read_csv('../data/processed/data_reviews.csv')\n"
     ]
    }
   ],
   "source": [
    "# Load data\n",
    "reviews_df = pd.read_csv('../data/processed/data_reviews.csv')"
   ]
  },
  {
   "cell_type": "code",
   "execution_count": 3,
   "metadata": {},
   "outputs": [],
   "source": [
    "# The first thing we do is remove the variable state, since we only wanted it for geoespacial visualizations.\n",
    "# In this project we do not need it for the model.\n",
    "reviews_df = reviews_df.drop(columns=['state'])"
   ]
  },
  {
   "cell_type": "markdown",
   "metadata": {},
   "source": [
    "La siguiente transformación que vamos a realizar es la de agrupar los valores de alguno de los atributos de las variables categoricas que estaban repetidas."
   ]
  },
  {
   "cell_type": "code",
   "execution_count": 4,
   "metadata": {},
   "outputs": [
    {
     "data": {
      "text/plain": [
       "delivery                 object\n",
       "outdoor_seating          object\n",
       "credit_cards             object\n",
       "bike_parking             object\n",
       "price_range              object\n",
       "take_out                 object\n",
       "wifi                     object\n",
       "alcohol                  object\n",
       "caters                   object\n",
       "wheelchair_accessible    object\n",
       "good_for_kids            object\n",
       "attire                   object\n",
       "reservations             object\n",
       "table_service            object\n",
       "good_for_groups          object\n",
       "tv                       object\n",
       "noise_level              object\n",
       "stars                     int64\n",
       "useful                    int64\n",
       "funny                     int64\n",
       "cool                      int64\n",
       "dtype: object"
      ]
     },
     "execution_count": 4,
     "metadata": {},
     "output_type": "execute_result"
    }
   ],
   "source": [
    "reviews_df.dtypes"
   ]
  },
  {
   "cell_type": "code",
   "execution_count": 5,
   "metadata": {},
   "outputs": [
    {
     "name": "stdout",
     "output_type": "stream",
     "text": [
      "delivery ['False' 'True' 'None' nan]\n",
      "outdoor_seating ['False' 'True' 'None' nan]\n",
      "credit_cards ['False' 'True' nan 'None' True False]\n",
      "bike_parking ['True' 'False' nan 'None' True False]\n",
      "price_range [1.0 2.0 3.0 4.0 nan '2' '3' '1' '4' 'None' '2.0' '1.0' '3.0' '4.0']\n",
      "take_out ['True' 'None' nan 'False']\n",
      "wifi [\"u'free'\" \"u'no'\" \"'free'\" \"'no'\" nan \"u'paid'\" \"'paid'\" 'None']\n",
      "alcohol [\"u'none'\" \"u'full_bar'\" \"'none'\" \"'full_bar'\" \"u'beer_and_wine'\" nan\n",
      " \"'beer_and_wine'\" 'None']\n",
      "caters ['True' 'False' nan 'None' True False]\n",
      "wheelchair_accessible [nan True False 'True' 'False' 'None']\n",
      "good_for_kids [nan 'True' 'False' 'None' True False]\n",
      "attire [nan \"u'casual'\" \"'casual'\" \"u'dressy'\" \"'dressy'\" \"u'formal'\" 'None'\n",
      " \"'formal'\"]\n",
      "reservations [nan 'False' 'True' 'None']\n",
      "table_service [nan True False 'True' 'False' 'None']\n",
      "good_for_groups [nan 'True' 'False' 'None' True False]\n",
      "tv [nan 'True' 'False' 'None' True False]\n",
      "noise_level [nan \"u'quiet'\" \"u'average'\" \"u'loud'\" \"'quiet'\" \"'average'\"\n",
      " \"u'very_loud'\" \"'loud'\" \"'very_loud'\" 'None']\n"
     ]
    }
   ],
   "source": [
    "# We see all the unique values for each variable\n",
    "for i in reviews_df.select_dtypes(include=['object', 'float']):\n",
    "    print(i, reviews_df[i].unique())"
   ]
  },
  {
   "cell_type": "markdown",
   "metadata": {},
   "source": [
    "Vamos a transformar los datos para poder convertirlos a 1 y 0 y poder trabajar con ellos. Lo haremos de forma distinta dependiendo de como vienen los datos y que necesitan."
   ]
  },
  {
   "cell_type": "code",
   "execution_count": 6,
   "metadata": {},
   "outputs": [],
   "source": [
    "# We create a list with the variables that we want to transform in this way, 1 if is True and 0 if is False and nan, None to nan. But first we transform the variables to string.\n",
    "\n",
    "lista1 = ['credit_cards', 'bike_parking', 'caters', 'wheelchair_accessible', 'good_for_kids', 'table_service', \n",
    "          'good_for_groups', 'tv']\n",
    "\n",
    "for i in lista1:\n",
    "    reviews_df[i] = reviews_df[i].astype(str)\n",
    "    reviews_df[i] = reviews_df[i].replace({'True': 1, 'False': 0, 'nan': np.nan, 'None': np.nan})"
   ]
  },
  {
   "cell_type": "code",
   "execution_count": 7,
   "metadata": {},
   "outputs": [],
   "source": [
    "# We create a list with the variables that we want to transform in this other way, 1 if is True and 0 if is False and nan, None to nan. \n",
    "\n",
    "lista2 = ['delivery', 'outdoor_seating', 'take_out', 'reservations']\n",
    "\n",
    "for i in lista2:\n",
    "    reviews_df[i] = reviews_df[i].replace({'True': 1, 'False': 0, 'nan': np.nan, 'None': np.nan})"
   ]
  },
  {
   "cell_type": "code",
   "execution_count": 8,
   "metadata": {},
   "outputs": [],
   "source": [
    "# Finally, we create a list with the variables that we want to transform in this other way, We eliminate the u' and ' and nan, None to nan.\n",
    "\n",
    "lista_u = ['wifi', 'alcohol', 'attire', 'noise_level']\n",
    "\n",
    "for i in reviews_df[lista_u]:\n",
    "    reviews_df[i] = reviews_df[i].str.replace(\"u'\", \"'\")\n",
    "    reviews_df[i] = reviews_df[i].str.replace(\"'\", \"\")\n",
    "    reviews_df[i] = reviews_df[i].replace(\"None\", np.nan)\n",
    "    reviews_df[i] = reviews_df[i].replace(\"none\", np.nan)"
   ]
  },
  {
   "cell_type": "code",
   "execution_count": 9,
   "metadata": {},
   "outputs": [],
   "source": [
    "# This variable we have to transformate in a float type\n",
    "reviews_df['price_range'] = reviews_df['price_range'].replace({'1.0': 1, '2.0': 2, '3.0': 3, '4.0': 4, 1.0: 1, 2.0: 2, \n",
    "                                                               3.0: 3, 4.0: 4, '1': 1, '2': 2, '3': 3,\n",
    "                                                               '4': 4, 'None':np.nan})"
   ]
  },
  {
   "cell_type": "code",
   "execution_count": 10,
   "metadata": {},
   "outputs": [
    {
     "name": "stdout",
     "output_type": "stream",
     "text": [
      "delivery [ 0.  1. nan]\n",
      "outdoor_seating [ 0.  1. nan]\n",
      "credit_cards [ 0.  1. nan]\n",
      "bike_parking [ 1.  0. nan]\n",
      "price_range [ 1.  2.  3.  4. nan]\n",
      "take_out [ 1. nan  0.]\n",
      "wifi ['free' 'no' nan 'paid']\n",
      "alcohol [nan 'full_bar' 'beer_and_wine']\n",
      "caters [ 1.  0. nan]\n",
      "wheelchair_accessible [nan  1.  0.]\n",
      "good_for_kids [nan  1.  0.]\n",
      "attire [nan 'casual' 'dressy' 'formal']\n",
      "reservations [nan  0.  1.]\n",
      "table_service [nan  1.  0.]\n",
      "good_for_groups [nan  1.  0.]\n",
      "tv [nan  1.  0.]\n",
      "noise_level [nan 'quiet' 'average' 'loud' 'very_loud']\n"
     ]
    }
   ],
   "source": [
    "# We look other time the unique values for each variable\n",
    "for i in reviews_df.select_dtypes(include=['object', 'float']):\n",
    "    print(i, reviews_df[i].unique())"
   ]
  },
  {
   "cell_type": "code",
   "execution_count": 11,
   "metadata": {},
   "outputs": [],
   "source": [
    "# we need to fill all tha nan values with 0\n",
    "lista_na = ['delivery', 'outdoor_seating', 'credit_cards', 'bike_parking', 'price_range', 'take_out', 'caters', \n",
    "            'wheelchair_accessible', 'good_for_kids', 'reservations', 'table_service', 'good_for_groups', 'tv']\n",
    "\n",
    "reviews_df[lista_na] = reviews_df[lista_na].fillna(0)"
   ]
  },
  {
   "cell_type": "code",
   "execution_count": 12,
   "metadata": {},
   "outputs": [],
   "source": [
    "# We define other time the categorical and numerical variables\n",
    "cat_var = ['delivery', 'outdoor_seating', 'credit_cards', 'bike_parking', 'price_range', 'take_out', 'wifi', 'alcohol', \n",
    "           'caters', 'wheelchair_accessible', 'good_for_kids', 'attire', 'reservations', 'table_service', 'good_for_groups',\n",
    "           'tv', 'noise_level']\n",
    "\n",
    "num_var = ['useful', 'funny', 'cool']"
   ]
  },
  {
   "cell_type": "code",
   "execution_count": 13,
   "metadata": {},
   "outputs": [],
   "source": [
    "# We make the pipeline to transform the numerical variables\n",
    "num_transformer = Pipeline(steps=[\n",
    "    ('scaler', StandardScaler())])"
   ]
  },
  {
   "cell_type": "code",
   "execution_count": 14,
   "metadata": {},
   "outputs": [],
   "source": [
    "# We make the pipeline to transform the categorical variables\n",
    "cat_transformer = Pipeline(steps=[\n",
    "    ('imputer', SimpleImputer(strategy='constant', fill_value='Unkown')),\n",
    "    ('onehot', OneHotEncoder(handle_unknown='ignore'))])"
   ]
  },
  {
   "cell_type": "code",
   "execution_count": 15,
   "metadata": {},
   "outputs": [],
   "source": [
    "# We make the preprocessor, where we define the transformers and the variables that we want to transform\n",
    "preprocessor = ColumnTransformer(\n",
    "    transformers=[\n",
    "        ('cat', cat_transformer, cat_var),\n",
    "        ('num', num_transformer, num_var)\n",
    "    ]\n",
    ")"
   ]
  },
  {
   "cell_type": "code",
   "execution_count": 16,
   "metadata": {},
   "outputs": [],
   "source": [
    "# We save the preprocessor\n",
    "with open('../modelos/preprocessor.pickle', 'wb') as f:\n",
    "    pickle.dump(preprocessor, f)"
   ]
  },
  {
   "cell_type": "code",
   "execution_count": 17,
   "metadata": {},
   "outputs": [],
   "source": [
    "#We split the dataset in train and test. We put stratify because the data is unbalanced and select the size of the test\n",
    "#of 20%\n",
    "X_train, X_test, y_train, y_test = train_test_split(reviews_df.drop('stars',axis=1), \n",
    "                                                   reviews_df['stars'], \n",
    "                                                   stratify=reviews_df['stars'], \n",
    "                                                   test_size=0.2, random_state=12345)\n"
   ]
  },
  {
   "cell_type": "code",
   "execution_count": 18,
   "metadata": {},
   "outputs": [],
   "source": [
    "X_train_val, X_val, y_train_val, y_val = train_test_split(X_train, y_train,\n",
    "                                                   stratify= y_train, \n",
    "                                                   test_size=0.2, random_state=12345)"
   ]
  },
  {
   "cell_type": "code",
   "execution_count": 19,
   "metadata": {},
   "outputs": [],
   "source": [
    "# We save the train and test datasets\n",
    "X_train.to_csv(\"../data/processed/X_train.csv\")\n",
    "y_train.to_csv(\"../data/processed/y_train.csv\")\n",
    "\n",
    "X_test.to_csv(\"../data/processed/X_test.csv\")\n",
    "y_test.to_csv(\"../data/processed/y_test.csv\")\n",
    "\n",
    "X_train_val.to_csv(\"../data/processed/X_train_val.csv\")\n",
    "y_train_val.to_csv(\"../data/processed/y_train_val.csv\")\n",
    "\n",
    "X_val.to_csv(\"../data/processed/X_val.csv\")\n",
    "y_val.to_csv(\"../data/processed/y_val.csv\")\n"
   ]
  }
 ],
 "metadata": {
  "kernelspec": {
   "display_name": "Python 3 (ipykernel)",
   "language": "python",
   "name": "python3"
  },
  "language_info": {
   "codemirror_mode": {
    "name": "ipython",
    "version": 3
   },
   "file_extension": ".py",
   "mimetype": "text/x-python",
   "name": "python",
   "nbconvert_exporter": "python",
   "pygments_lexer": "ipython3",
   "version": "3.9.15"
  },
  "vscode": {
   "interpreter": {
    "hash": "da0b273fad0d61d12c3693300f5ccb4878c99bea9923897257877fc2123a47be"
   }
  }
 },
 "nbformat": 4,
 "nbformat_minor": 2
}
